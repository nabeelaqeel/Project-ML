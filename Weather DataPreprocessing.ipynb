{
 "cells": [
  {
   "cell_type": "code",
   "execution_count": 15,
   "metadata": {},
   "outputs": [],
   "source": [
    "import pandas as pd\n",
    "import numpy as np\n",
    "import matplotlib\n",
    "import seaborn as sbn"
   ]
  },
  {
   "cell_type": "code",
   "execution_count": 16,
   "metadata": {},
   "outputs": [],
   "source": [
    "data_dir_1 = \"2001-2024.csv\"\n",
    "weather = pd.read_csv(data_dir_1)"
   ]
  },
  {
   "cell_type": "code",
   "execution_count": 17,
   "metadata": {},
   "outputs": [
    {
     "name": "stdout",
     "output_type": "stream",
     "text": [
      "            Date  Temp_max(c)  Temp_avg(c)  Temp_min(c)  Dew_max(c)  \\\n",
      "0      1/01/2001         32.8         28.7         25.0        23.9   \n",
      "1      2/01/2001         31.1         24.8        -17.8        25.0   \n",
      "2      3/01/2001         30.0         26.8         25.0        25.0   \n",
      "3      4/01/2001         28.9         26.0         22.8        23.9   \n",
      "4      5/01/2001         32.2         27.3         23.9        23.9   \n",
      "...          ...          ...          ...          ...         ...   \n",
      "8242  26/05/2024         35.0         28.7         26.1        26.1   \n",
      "8243  27/05/2024         33.9         28.5         26.1        27.2   \n",
      "8244  28/05/2024         33.9         29.7         26.1        27.2   \n",
      "8245  29/05/2024         36.1         30.0         27.2        26.1   \n",
      "8246  30/05/2024         33.9         28.5         26.1        27.2   \n",
      "\n",
      "      Dew_avg(c)  Dew_min(c)  Hum_max(%)  Hum_avg(%)  Hum_min(%)  \\\n",
      "0           23.4        22.8          94        74.5          55   \n",
      "1           21.4       -17.8          94        78.4           0   \n",
      "2           23.9        22.8         100        85.1          66   \n",
      "3           23.2        22.2         100        85.9          66   \n",
      "4           21.8        20.0          89        72.3          55   \n",
      "...          ...         ...         ...         ...         ...   \n",
      "8242        25.3        23.9          94        83.6          53   \n",
      "8243        25.7        25.0          94        84.8          59   \n",
      "8244        26.0        25.0          94        80.9          59   \n",
      "8245        25.5        23.9          94        77.9          53   \n",
      "8246        25.9        25.0          94        86.3          59   \n",
      "\n",
      "      Wind_max(mph)  Wind_avg(mph)  Wind_min(mph)  Pres_max(in)  Pres_avg(in)  \\\n",
      "0                 8            2.5              1          29.7          29.7   \n",
      "1                 8            2.7              0          29.8          29.7   \n",
      "2                 9            3.2              0          29.8          29.7   \n",
      "3                10            3.9              1          29.8          29.7   \n",
      "4                 8            2.0              0          29.8          29.7   \n",
      "...             ...            ...            ...           ...           ...   \n",
      "8242             12            2.3              0          29.7          29.6   \n",
      "8243              7            2.1              0          29.7          29.6   \n",
      "8244              9            2.8              0          29.7          29.7   \n",
      "8245              9            2.9              0          29.7          29.7   \n",
      "8246             14            3.4              0          29.7          29.6   \n",
      "\n",
      "      Pres_min(in)  Precipitation  \n",
      "0             29.6              0  \n",
      "1             29.5              0  \n",
      "2             29.7              0  \n",
      "3             29.7              0  \n",
      "4             29.6              0  \n",
      "...            ...            ...  \n",
      "8242          29.6              0  \n",
      "8243          29.6              0  \n",
      "8244          29.6              0  \n",
      "8245          29.6              0  \n",
      "8246          29.6              0  \n",
      "\n",
      "[8247 rows x 17 columns]\n"
     ]
    }
   ],
   "source": [
    "print(weather)"
   ]
  },
  {
   "cell_type": "code",
   "execution_count": 18,
   "metadata": {},
   "outputs": [
    {
     "name": "stdout",
     "output_type": "stream",
     "text": [
      "Date             0\n",
      "Temp_max(c)      0\n",
      "Temp_avg(c)      0\n",
      "Temp_min(c)      0\n",
      "Dew_max(c)       0\n",
      "Dew_avg(c)       0\n",
      "Dew_min(c)       0\n",
      "Hum_max(%)       0\n",
      "Hum_avg(%)       0\n",
      "Hum_min(%)       0\n",
      "Wind_max(mph)    0\n",
      "Wind_avg(mph)    0\n",
      "Wind_min(mph)    0\n",
      "Pres_max(in)     0\n",
      "Pres_avg(in)     0\n",
      "Pres_min(in)     0\n",
      "Precipitation    0\n",
      "dtype: int64\n"
     ]
    }
   ],
   "source": [
    "print(weather.isna().sum())"
   ]
  },
  {
   "cell_type": "code",
   "execution_count": 19,
   "metadata": {},
   "outputs": [
    {
     "data": {
      "text/plain": [
       "(8247, 17)"
      ]
     },
     "execution_count": 19,
     "metadata": {},
     "output_type": "execute_result"
    }
   ],
   "source": [
    "weather.shape"
   ]
  },
  {
   "cell_type": "code",
   "execution_count": 20,
   "metadata": {},
   "outputs": [],
   "source": [
    "weather_df = weather.drop('Date', axis=1)"
   ]
  },
  {
   "cell_type": "code",
   "execution_count": 21,
   "metadata": {},
   "outputs": [
    {
     "name": "stdout",
     "output_type": "stream",
     "text": [
      "Temp_max(c)      0\n",
      "Temp_avg(c)      0\n",
      "Temp_min(c)      0\n",
      "Dew_max(c)       0\n",
      "Dew_avg(c)       0\n",
      "Dew_min(c)       0\n",
      "Hum_max(%)       0\n",
      "Hum_avg(%)       0\n",
      "Hum_min(%)       0\n",
      "Wind_max(mph)    0\n",
      "Wind_avg(mph)    0\n",
      "Wind_min(mph)    0\n",
      "Pres_max(in)     0\n",
      "Pres_avg(in)     0\n",
      "Pres_min(in)     0\n",
      "Precipitation    0\n",
      "dtype: int64\n"
     ]
    }
   ],
   "source": [
    "print(weather_df.isna().sum())"
   ]
  },
  {
   "cell_type": "code",
   "execution_count": 22,
   "metadata": {},
   "outputs": [
    {
     "data": {
      "text/plain": [
       "<Axes: ylabel='Temp_avg(c)'>"
      ]
     },
     "execution_count": 22,
     "metadata": {},
     "output_type": "execute_result"
    },
    {
     "data": {
      "image/png": "[encoded data removed]",
      "text/plain": [
       "<Figure size 640x480 with 1 Axes>"
      ]
     },
     "metadata": {},
     "output_type": "display_data"
    }
   ],
   "source": [
    "sbn.boxplot(weather_df['Temp_avg(c)'])"
   ]
  },
  {
   "cell_type": "code",
   "execution_count": 23,
   "metadata": {},
   "outputs": [
    {
     "name": "stdout",
     "output_type": "stream",
     "text": [
      "IQR: 1.60\n",
      "Lower_Fence: 24.80\n",
      "Upper_Fence: 31.20\n",
      "\n",
      "Display Outliers\n",
      "      Temp_max(c)  Temp_avg(c)  Temp_min(c)  Dew_max(c)  Dew_avg(c)  \\\n",
      "10           31.1         24.2        -17.8        22.8        20.5   \n",
      "13           32.2         21.2        -17.8        23.9        17.4   \n",
      "36           32.2         22.6        -17.8        23.9        19.4   \n",
      "62           35.0         23.3        -17.8        25.0        18.9   \n",
      "600          32.8         23.9        -17.8        25.0        21.6   \n",
      "...           ...          ...          ...         ...         ...   \n",
      "7003         25.0         23.7         22.8        23.9        22.6   \n",
      "7352         25.0         24.4         23.9        23.9        23.6   \n",
      "7495         36.1         31.3         27.2        26.1        24.2   \n",
      "7754         26.1         24.3         22.2        23.9        22.9   \n",
      "7790         26.1         24.6         23.9        23.9        23.4   \n",
      "\n",
      "      Dew_min(c)  Hum_max(%)  Hum_avg(%)  Hum_min(%)  Wind_max(mph)  \\\n",
      "10         -17.8         100        76.2           0             15   \n",
      "13         -17.8         100        68.2           0             10   \n",
      "36         -17.8         100        75.1           0              9   \n",
      "62         -17.8          94        69.0           0             20   \n",
      "600        -17.8         100        83.8           0             13   \n",
      "...          ...         ...         ...         ...            ...   \n",
      "7003        22.2         100        93.0          89              8   \n",
      "7352        22.8         100        95.8          94             26   \n",
      "7495        22.2          84        67.2          49             12   \n",
      "7754        21.1         100        92.5          88              7   \n",
      "7790        22.8         100        93.8          89              5   \n",
      "\n",
      "      Wind_avg(mph)  Wind_min(mph)  Pres_max(in)  Pres_avg(in)  Pres_min(in)  \\\n",
      "10              6.0              0          29.8          29.7          29.6   \n",
      "13              5.6              1          29.8          29.7          29.6   \n",
      "36              2.7              0          29.7          26.8           0.0   \n",
      "62              4.6              0          29.8          28.3           0.0   \n",
      "600             3.6              0          29.8          28.3           0.0   \n",
      "...             ...            ...           ...           ...           ...   \n",
      "7003            3.7              0          29.8          29.7          29.7   \n",
      "7352            5.4              0          29.7          29.7          29.6   \n",
      "7495            5.6              0          29.7          29.6          29.6   \n",
      "7754            3.4              0          29.8          29.7          29.7   \n",
      "7790            1.9              0          29.9          29.9          29.8   \n",
      "\n",
      "      Precipitation  \n",
      "10                0  \n",
      "13                0  \n",
      "36                0  \n",
      "62                0  \n",
      "600               0  \n",
      "...             ...  \n",
      "7003              0  \n",
      "7352              0  \n",
      "7495              0  \n",
      "7754              0  \n",
      "7790              0  \n",
      "\n",
      "[78 rows x 16 columns]\n",
      "\n",
      "Display data without outliers\n",
      "      Temp_max(c)  Temp_avg(c)  Temp_min(c)  Dew_max(c)  Dew_avg(c)  \\\n",
      "0            32.8         28.7         25.0        23.9        23.4   \n",
      "1            31.1         24.8        -17.8        25.0        21.4   \n",
      "2            30.0         26.8         25.0        25.0        23.9   \n",
      "3            28.9         26.0         22.8        23.9        23.2   \n",
      "4            32.2         27.3         23.9        23.9        21.8   \n",
      "...           ...          ...          ...         ...         ...   \n",
      "8242         35.0         28.7         26.1        26.1        25.3   \n",
      "8243         33.9         28.5         26.1        27.2        25.7   \n",
      "8244         33.9         29.7         26.1        27.2        26.0   \n",
      "8245         36.1         30.0         27.2        26.1        25.5   \n",
      "8246         33.9         28.5         26.1        27.2        25.9   \n",
      "\n",
      "      Dew_min(c)  Hum_max(%)  Hum_avg(%)  Hum_min(%)  Wind_max(mph)  \\\n",
      "0           22.8          94        74.5          55              8   \n",
      "1          -17.8          94        78.4           0              8   \n",
      "2           22.8         100        85.1          66              9   \n",
      "3           22.2         100        85.9          66             10   \n",
      "4           20.0          89        72.3          55              8   \n",
      "...          ...         ...         ...         ...            ...   \n",
      "8242        23.9          94        83.6          53             12   \n",
      "8243        25.0          94        84.8          59              7   \n",
      "8244        25.0          94        80.9          59              9   \n",
      "8245        23.9          94        77.9          53              9   \n",
      "8246        25.0          94        86.3          59             14   \n",
      "\n",
      "      Wind_avg(mph)  Wind_min(mph)  Pres_max(in)  Pres_avg(in)  Pres_min(in)  \\\n",
      "0               2.5              1          29.7          29.7          29.6   \n",
      "1               2.7              0          29.8          29.7          29.5   \n",
      "2               3.2              0          29.8          29.7          29.7   \n",
      "3               3.9              1          29.8          29.7          29.7   \n",
      "4               2.0              0          29.8          29.7          29.6   \n",
      "...             ...            ...           ...           ...           ...   \n",
      "8242            2.3              0          29.7          29.6          29.6   \n",
      "8243            2.1              0          29.7          29.6          29.6   \n",
      "8244            2.8              0          29.7          29.7          29.6   \n",
      "8245            2.9              0          29.7          29.7          29.6   \n",
      "8246            3.4              0          29.7          29.6          29.6   \n",
      "\n",
      "      Precipitation  \n",
      "0                 0  \n",
      "1                 0  \n",
      "2                 0  \n",
      "3                 0  \n",
      "4                 0  \n",
      "...             ...  \n",
      "8242              0  \n",
      "8243              0  \n",
      "8244              0  \n",
      "8245              0  \n",
      "8246              0  \n",
      "\n",
      "[8169 rows x 16 columns]\n"
     ]
    },
    {
     "data": {
      "image/png": "[encoded data removed]",
      "text/plain": [
       "<Figure size 640x480 with 1 Axes>"
      ]
     },
     "metadata": {},
     "output_type": "display_data"
    }
   ],
   "source": [
    "# Display a BoxPlot\n",
    "import pandas as pd\n",
    "import numpy as np\n",
    "import matplotlib\n",
    "import seaborn as sbn \n",
    "sbn.boxplot(weather_df)\n",
    "\n",
    "# Compute the Interquartile Range (IQR)\n",
    "Q1 = weather_df['Temp_avg(c)'].quantile(0.25)\n",
    "Q3 = weather_df['Temp_avg(c)'].quantile(0.75)\n",
    "IQR = Q3 - Q1\n",
    "print (\"IQR: %.2f\" %IQR)\n",
    "\n",
    "# Calculate the Lower and Upper Fence\n",
    "Lower_Fence = Q1 - (1.5 * IQR)\n",
    "print (\"Lower_Fence: %.2f\" %Lower_Fence)\n",
    "Upper_Fence = Q3 + (1.5 * IQR)\n",
    "print (\"Upper_Fence: %.2f\" %Upper_Fence)\n",
    "\n",
    "# Display Outliers and Filtering Out the Outliers\n",
    "print(\"\\nDisplay Outliers\")\n",
    "print (weather_df[((weather_df['Temp_avg(c)'] < Lower_Fence) | (weather_df['Temp_avg(c)'] > Upper_Fence))])\n",
    "\n",
    "# display data with outliers filtered out, use ~ to filter\n",
    "print(\"\\nDisplay data without outliers\")\n",
    "print (weather_df[~((weather_df['Temp_avg(c)'] < Lower_Fence) | (weather_df['Temp_avg(c)'] > Upper_Fence))])"
   ]
  },
  {
   "cell_type": "code",
   "execution_count": 24,
   "metadata": {},
   "outputs": [
    {
     "name": "stdout",
     "output_type": "stream",
     "text": [
      "      Temp_max(c)  Temp_avg(c)  Temp_min(c)  Dew_max(c)  Dew_avg(c)  \\\n",
      "0            32.8         28.7         25.0        23.9        23.4   \n",
      "1            31.1         24.8        -17.8        25.0        21.4   \n",
      "2            30.0         26.8         25.0        25.0        23.9   \n",
      "3            28.9         26.0         22.8        23.9        23.2   \n",
      "4            32.2         27.3         23.9        23.9        21.8   \n",
      "...           ...          ...          ...         ...         ...   \n",
      "8242         35.0         28.7         26.1        26.1        25.3   \n",
      "8243         33.9         28.5         26.1        27.2        25.7   \n",
      "8244         33.9         29.7         26.1        27.2        26.0   \n",
      "8245         36.1         30.0         27.2        26.1        25.5   \n",
      "8246         33.9         28.5         26.1        27.2        25.9   \n",
      "\n",
      "      Dew_min(c)  Hum_max(%)  Hum_avg(%)  Hum_min(%)  Wind_max(mph)  \\\n",
      "0           22.8          94        74.5          55              8   \n",
      "1          -17.8          94        78.4           0              8   \n",
      "2           22.8         100        85.1          66              9   \n",
      "3           22.2         100        85.9          66             10   \n",
      "4           20.0          89        72.3          55              8   \n",
      "...          ...         ...         ...         ...            ...   \n",
      "8242        23.9          94        83.6          53             12   \n",
      "8243        25.0          94        84.8          59              7   \n",
      "8244        25.0          94        80.9          59              9   \n",
      "8245        23.9          94        77.9          53              9   \n",
      "8246        25.0          94        86.3          59             14   \n",
      "\n",
      "      Wind_avg(mph)  Wind_min(mph)  Pres_max(in)  Pres_avg(in)  Pres_min(in)  \\\n",
      "0               2.5              1          29.7          29.7          29.6   \n",
      "1               2.7              0          29.8          29.7          29.5   \n",
      "2               3.2              0          29.8          29.7          29.7   \n",
      "3               3.9              1          29.8          29.7          29.7   \n",
      "4               2.0              0          29.8          29.7          29.6   \n",
      "...             ...            ...           ...           ...           ...   \n",
      "8242            2.3              0          29.7          29.6          29.6   \n",
      "8243            2.1              0          29.7          29.6          29.6   \n",
      "8244            2.8              0          29.7          29.7          29.6   \n",
      "8245            2.9              0          29.7          29.7          29.6   \n",
      "8246            3.4              0          29.7          29.6          29.6   \n",
      "\n",
      "      Precipitation  \n",
      "0                 0  \n",
      "1                 0  \n",
      "2                 0  \n",
      "3                 0  \n",
      "4                 0  \n",
      "...             ...  \n",
      "8242              0  \n",
      "8243              0  \n",
      "8244              0  \n",
      "8245              0  \n",
      "8246              0  \n",
      "\n",
      "[8169 rows x 16 columns]\n"
     ]
    }
   ],
   "source": [
    "weatherRemOut_df = weather_df[~((weather_df['Temp_avg(c)'] < Lower_Fence) | (weather_df['Temp_avg(c)'] > Upper_Fence))]\n",
    "print(weatherRemOut_df)"
   ]
  },
  {
   "cell_type": "code",
   "execution_count": 25,
   "metadata": {},
   "outputs": [],
   "source": [
    "from sklearn.utils import shuffle\n",
    "\n",
    "# Shuffle the data to avoid biasness\n",
    "\n",
    "df_shuffled = shuffle(weatherRemOut_df, random_state=42)\n",
    "\n",
    "df_shuffled.to_csv('no_feature_scaling.csv',index= False)"
   ]
  },
  {
   "cell_type": "code",
   "execution_count": 26,
   "metadata": {},
   "outputs": [
    {
     "name": "stdout",
     "output_type": "stream",
     "text": [
      "\n",
      "Scaled Data: \n",
      "       Temp_max(c)  Temp_avg(c)  Temp_min(c)  Dew_max(c)  Dew_avg(c)  \\\n",
      "0        0.000000      -0.3125          0.0         0.0    0.307692   \n",
      "1       -0.352941      -0.7500         -1.0         0.0   -0.230769   \n",
      "2        0.647059       0.3125          0.0         0.5    0.769231   \n",
      "3       -0.352941      -0.4375          0.0        -0.5   -0.538462   \n",
      "4       -1.000000      -0.3750          0.0         0.5    0.461538   \n",
      "...           ...          ...          ...         ...         ...   \n",
      "8164     0.647059       0.3125          1.0         0.5    0.153846   \n",
      "8165     0.647059       0.6250          0.0        -0.5   -0.538462   \n",
      "8166     1.294118       0.4375          0.0         0.0    0.000000   \n",
      "8167    -1.000000      -1.3750         -1.0         0.5    0.230769   \n",
      "8168    -1.000000      -0.8750         -1.0         0.0   -0.461538   \n",
      "\n",
      "      Dew_min(c)  Hum_max(%)  Hum_avg(%)  Hum_min(%)  Wind_max(mph)  \\\n",
      "0      -1.000000         0.0    0.402439         0.7       2.000000   \n",
      "1      -1.000000         0.0    0.414634         0.3       1.000000   \n",
      "2       1.833333         0.0    0.231707         0.3       0.000000   \n",
      "3      -1.000000        -5.0   -0.134146         0.6      -1.000000   \n",
      "4       1.833333         0.0    0.585366         1.0       0.666667   \n",
      "...          ...         ...         ...         ...            ...   \n",
      "8164   -2.833333        -5.0   -0.256098        -1.0      -0.666667   \n",
      "8165   -2.833333        -5.0   -0.975610        -1.0       1.666667   \n",
      "8166    0.000000         0.0   -0.378049        -0.7      -0.333333   \n",
      "8167    0.000000         6.0    1.329268         0.6      -0.333333   \n",
      "8168   -1.000000         0.0    0.402439         0.2       0.666667   \n",
      "\n",
      "      Wind_avg(mph)  Wind_min(mph)  Pres_max(in)  Pres_avg(in)  Pres_min(in)  \\\n",
      "0         -0.076923            0.0           0.0           0.0           0.0   \n",
      "1          1.230769            0.0           0.0           0.0           0.0   \n",
      "2          0.153846            1.0          -0.1          -0.1           0.0   \n",
      "3          0.000000            0.0           0.0           0.0           1.0   \n",
      "4          0.000000            0.0          -0.1          -0.1           0.0   \n",
      "...             ...            ...           ...           ...           ...   \n",
      "8164      -0.769231            0.0           0.1           0.1           1.0   \n",
      "8165       1.615385            0.0           0.0           0.0           0.0   \n",
      "8166      -0.153846            0.0           0.0           0.0           0.0   \n",
      "8167      -0.615385            0.0           0.0           0.0           1.0   \n",
      "8168      -0.384615            0.0           0.0           0.1           1.0   \n",
      "\n",
      "      Precipitation  \n",
      "0               0.0  \n",
      "1               0.0  \n",
      "2               0.0  \n",
      "3               0.0  \n",
      "4               0.0  \n",
      "...             ...  \n",
      "8164            0.0  \n",
      "8165            0.0  \n",
      "8166            0.0  \n",
      "8167            0.0  \n",
      "8168            0.0  \n",
      "\n",
      "[8169 rows x 16 columns]\n"
     ]
    }
   ],
   "source": [
    "from sklearn.preprocessing import RobustScaler\n",
    "\n",
    "# Initialize StandardScaler\n",
    "scaler = RobustScaler()\n",
    "\n",
    "# Fit the scaler to data and transform\n",
    "scaled_data = scaler.fit_transform(df_shuffled)\n",
    "\n",
    "# Covert back to DataFrame\n",
    "scaled_df = pd.DataFrame(scaled_data, columns = df_shuffled.columns)\n",
    "print(\"\\nScaled Data: \\n\", scaled_df)"
   ]
  },
  {
   "cell_type": "code",
   "execution_count": 27,
   "metadata": {},
   "outputs": [],
   "source": [
    "#scaled_df.to_csv('scaled_data.csv', index=False)"
   ]
  }
 ],
 "metadata": {
  "kernelspec": {
   "display_name": "base",
   "language": "python",
   "name": "python3"
  },
  "language_info": {
   "codemirror_mode": {
    "name": "ipython",
    "version": 3
   },
   "file_extension": ".py",
   "mimetype": "text/x-python",
   "name": "python",
   "nbconvert_exporter": "python",
   "pygments_lexer": "ipython3",
   "version": "3.11.9"
  }
 },
 "nbformat": 4,
 "nbformat_minor": 2
}
