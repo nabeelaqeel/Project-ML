{
 "cells": [
  {
   "cell_type": "code",
   "execution_count": 4,
   "metadata": {},
   "outputs": [
    {
     "name": "stdout",
     "output_type": "stream",
     "text": [
      "      Temp_max(c)  Temp_min(c)  Dew_max(c)  Dew_avg(c)  Dew_min(c)  \\\n",
      "3651    -0.352941          0.0         0.0    0.384615    0.000000   \n",
      "4698    -0.352941         -1.0        -0.5   -0.692308   -1.000000   \n",
      "807      0.647059          1.0         1.0    0.923077    1.833333   \n",
      "2045    -1.000000          0.0         0.0   -0.076923   -1.000000   \n",
      "2948     0.647059          1.0         0.0   -0.538462   -4.666667   \n",
      "...           ...          ...         ...         ...         ...   \n",
      "5226     0.647059          1.0         0.5    0.461538    0.000000   \n",
      "5390    -0.352941          0.0         0.5    1.076923    3.666667   \n",
      "860      0.000000          1.0         0.0    0.076923    0.000000   \n",
      "7603    -0.352941         -2.0         0.0   -0.692308   -1.000000   \n",
      "7270     0.647059          2.0         0.0   -0.076923   -2.833333   \n",
      "\n",
      "      Hum_max(%)  Hum_avg(%)  Hum_min(%)  Wind_max(mph)  Wind_avg(mph)  \\\n",
      "3651         6.0    0.487805         0.6      -1.000000      -0.615385   \n",
      "4698         0.0    0.292683        -0.1      -0.666667      -0.846154   \n",
      "807          0.0    0.426829         0.0      -0.333333      -0.923077   \n",
      "2045         0.0    0.073171         0.2       0.000000       0.000000   \n",
      "2948         0.0   -1.109756        -0.7      -0.333333       0.076923   \n",
      "...          ...         ...         ...            ...            ...   \n",
      "5226        -5.0   -0.524390        -0.4       0.000000      -0.384615   \n",
      "5390         6.0    1.134146         1.4       0.000000      -0.538462   \n",
      "860         -5.0   -0.682927         0.6      -1.000000      -0.153846   \n",
      "7603         0.0   -0.231707        -0.1       0.666667      -0.307692   \n",
      "7270       -10.0   -1.182927        -1.0       1.333333       2.076923   \n",
      "\n",
      "      Wind_min(mph)  Pres_max(in)  Pres_avg(in)  Pres_min(in)  \n",
      "3651            0.0           0.0           0.1           1.0  \n",
      "4698            0.0          -0.1          -0.1           0.0  \n",
      "807             0.0          -0.1          -0.1           0.0  \n",
      "2045            0.0           0.0          -1.3        -296.0  \n",
      "2948            0.0          -0.1           0.0           0.0  \n",
      "...             ...           ...           ...           ...  \n",
      "5226            0.0          -0.1           0.0           0.0  \n",
      "5390            0.0          -0.1           0.0           0.0  \n",
      "860             0.0           0.0           0.0           1.0  \n",
      "7603            0.0           0.0           0.0           0.0  \n",
      "7270            0.0           0.1           0.1           1.0  \n",
      "\n",
      "[5718 rows x 14 columns]\n"
     ]
    }
   ],
   "source": [
    "#Split the data\n",
    "import pandas as pd\n",
    "import numpy as np\n",
    "from sklearn.model_selection import train_test_split\n",
    "\n",
    "# Load the data\n",
    "data = pd.read_csv('scaled_data.csv')\n",
    "\n",
    "train,test = train_test_split(data,test_size = 0.3, random_state = 42)\n",
    "\n",
    "X_train = train.iloc[:,np.r_[0,2:15]]\n",
    "y_train = train.iloc[:,1]\n",
    "X_test = test.iloc[:,np.r_[0,2:15]]\n",
    "y_test = test.iloc[:,1]\n",
    "\n",
    "print(X_train)"
   ]
  },
  {
   "cell_type": "markdown",
   "metadata": {},
   "source": [
    "# **Neural Network Model**"
   ]
  },
  {
   "cell_type": "code",
   "execution_count": 13,
   "metadata": {},
   "outputs": [],
   "source": [
    "from sklearn.neural_network import MLPRegressor\n",
    "from sklearn.preprocessing import StandardScaler\n",
    "from sklearn.pipeline import make_pipeline\n",
    "\n",
    "# Define the model\n",
    "model = make_pipeline(\n",
    "    StandardScaler(),\n",
    "    MLPRegressor(hidden_layer_sizes=(32, 32), activation='relu', solver='adam', max_iter=50)\n",
    ")\n",
    "\n",
    "# Fit the model\n",
    "model.fit(X_train, y_train)\n",
    "\n",
    "y_pred = model.predict(X_test)"
   ]
  },
  {
   "cell_type": "markdown",
   "metadata": {},
   "source": [
    "# Evaluation"
   ]
  },
  {
   "cell_type": "code",
   "execution_count": 15,
   "metadata": {},
   "outputs": [
    {
     "name": "stdout",
     "output_type": "stream",
     "text": [
      "      Metric     Value\n",
      "0        MAE  0.051502\n",
      "1        MSE  0.004682\n",
      "2       RMSE  0.068426\n",
      "3  R-Squared  0.990641\n"
     ]
    }
   ],
   "source": [
    "# Performance Metrics\n",
    "from sklearn import metrics\n",
    "import numpy as np\n",
    "metrics_df = pd.DataFrame ({'Metric':\n",
    "['MAE',\n",
    "'MSE',\n",
    "'RMSE',\n",
    "'R-Squared'], 'Value':\n",
    "[metrics.mean_absolute_error(y_test, y_pred),\n",
    "metrics.mean_squared_error (y_test, y_pred),\n",
    "np.sqrt (metrics.mean_squared_error (y_test, y_pred)),\n",
    "metrics.explained_variance_score (y_test, y_pred)]}).round(6)\n",
    "print(metrics_df)"
   ]
  }
 ],
 "metadata": {
  "kernelspec": {
   "display_name": "Python 3",
   "language": "python",
   "name": "python3"
  },
  "language_info": {
   "codemirror_mode": {
    "name": "ipython",
    "version": 3
   },
   "file_extension": ".py",
   "mimetype": "text/x-python",
   "name": "python",
   "nbconvert_exporter": "python",
   "pygments_lexer": "ipython3",
   "version": "3.11.9"
  }
 },
 "nbformat": 4,
 "nbformat_minor": 2
}
