{
  "cells": [
    {
      "cell_type": "code",
      "execution_count": 2,
      "metadata": {
        "id": "t3LsYhuRK4bs"
      },
      "outputs": [
        {
          "ename": "ModuleNotFoundError",
          "evalue": "No module named 'tensorflow.python'",
          "output_type": "error",
          "traceback": [
            "\u001b[1;31m---------------------------------------------------------------------------\u001b[0m",
            "\u001b[1;31mModuleNotFoundError\u001b[0m                       Traceback (most recent call last)",
            "Cell \u001b[1;32mIn[2], line 10\u001b[0m\n\u001b[0;32m      8\u001b[0m \u001b[38;5;28;01mfrom\u001b[39;00m \u001b[38;5;21;01msklearn\u001b[39;00m \u001b[38;5;28;01mimport\u001b[39;00m metrics\n\u001b[0;32m      9\u001b[0m \u001b[38;5;28;01mfrom\u001b[39;00m \u001b[38;5;21;01mscipy\u001b[39;00m\u001b[38;5;21;01m.\u001b[39;00m\u001b[38;5;21;01mstats\u001b[39;00m \u001b[38;5;28;01mimport\u001b[39;00m pearsonr, shapiro\n\u001b[1;32m---> 10\u001b[0m \u001b[38;5;28;01mimport\u001b[39;00m \u001b[38;5;21;01mtensorflow\u001b[39;00m \u001b[38;5;28;01mas\u001b[39;00m \u001b[38;5;21;01mtf\u001b[39;00m\n\u001b[0;32m     11\u001b[0m \u001b[38;5;28;01mfrom\u001b[39;00m \u001b[38;5;21;01mtensorflow\u001b[39;00m\u001b[38;5;21;01m.\u001b[39;00m\u001b[38;5;21;01mkeras\u001b[39;00m\u001b[38;5;21;01m.\u001b[39;00m\u001b[38;5;21;01mmodels\u001b[39;00m \u001b[38;5;28;01mimport\u001b[39;00m Sequential\n\u001b[0;32m     12\u001b[0m \u001b[38;5;28;01mfrom\u001b[39;00m \u001b[38;5;21;01mtensorflow\u001b[39;00m\u001b[38;5;21;01m.\u001b[39;00m\u001b[38;5;21;01mkeras\u001b[39;00m\u001b[38;5;21;01m.\u001b[39;00m\u001b[38;5;21;01mlayers\u001b[39;00m \u001b[38;5;28;01mimport\u001b[39;00m Dense\n",
            "File \u001b[1;32m~\\AppData\\Local\\Packages\\PythonSoftwareFoundation.Python.3.11_qbz5n2kfra8p0\\LocalCache\\local-packages\\Python311\\site-packages\\tensorflow\\__init__.py:37\u001b[0m\n\u001b[0;32m     34\u001b[0m \u001b[38;5;28;01mimport\u001b[39;00m \u001b[38;5;21;01msite\u001b[39;00m \u001b[38;5;28;01mas\u001b[39;00m \u001b[38;5;21;01m_site\u001b[39;00m\n\u001b[0;32m     35\u001b[0m \u001b[38;5;28;01mimport\u001b[39;00m \u001b[38;5;21;01msys\u001b[39;00m \u001b[38;5;28;01mas\u001b[39;00m \u001b[38;5;21;01m_sys\u001b[39;00m\n\u001b[1;32m---> 37\u001b[0m \u001b[38;5;28;01mfrom\u001b[39;00m \u001b[38;5;21;01mtensorflow\u001b[39;00m\u001b[38;5;21;01m.\u001b[39;00m\u001b[38;5;21;01mpython\u001b[39;00m\u001b[38;5;21;01m.\u001b[39;00m\u001b[38;5;21;01mtools\u001b[39;00m \u001b[38;5;28;01mimport\u001b[39;00m module_util \u001b[38;5;28;01mas\u001b[39;00m _module_util\n\u001b[0;32m     38\u001b[0m \u001b[38;5;28;01mfrom\u001b[39;00m \u001b[38;5;21;01mtensorflow\u001b[39;00m\u001b[38;5;21;01m.\u001b[39;00m\u001b[38;5;21;01mpython\u001b[39;00m\u001b[38;5;21;01m.\u001b[39;00m\u001b[38;5;21;01mutil\u001b[39;00m\u001b[38;5;21;01m.\u001b[39;00m\u001b[38;5;21;01mlazy_loader\u001b[39;00m \u001b[38;5;28;01mimport\u001b[39;00m KerasLazyLoader \u001b[38;5;28;01mas\u001b[39;00m _KerasLazyLoader\n\u001b[0;32m     40\u001b[0m \u001b[38;5;66;03m# Make sure code inside the TensorFlow codebase can use tf2.enabled() at import.\u001b[39;00m\n",
            "\u001b[1;31mModuleNotFoundError\u001b[0m: No module named 'tensorflow.python'"
          ]
        }
      ],
      "source": [
        "\n",
        "import pandas as pd\n",
        "import numpy as np\n",
        "import matplotlib.pyplot as plt\n",
        "import seaborn as sns\n",
        "from sklearn.utils import shuffle\n",
        "from sklearn.preprocessing import RobustScaler\n",
        "from sklearn.model_selection import train_test_split\n",
        "from sklearn import metrics\n",
        "from scipy.stats import pearsonr, shapiro\n",
        "import tensorflow as tf\n",
        "from tensorflow.keras.models import Sequential\n",
        "from tensorflow.keras.layers import Dense"
      ]
    },
    {
      "cell_type": "code",
      "execution_count": null,
      "metadata": {
        "id": "b6APRkwDLU47"
      },
      "outputs": [],
      "source": [
        "data_dir_1 = \"2001-2024.csv\"\n",
        "weather = pd.read_csv(data_dir_1)"
      ]
    },
    {
      "cell_type": "code",
      "execution_count": null,
      "metadata": {
        "id": "jach7Eu-NiuQ"
      },
      "outputs": [],
      "source": [
        "weather = pd.read_csv('2001-2024.csv')"
      ]
    },
    {
      "cell_type": "code",
      "execution_count": null,
      "metadata": {
        "colab": {
          "base_uri": "https://localhost:8080/"
        },
        "id": "aeqvJD8iNtuu",
        "outputId": "9872d759-9731-4940-eb60-6b5aacfe9470"
      },
      "outputs": [
        {
          "name": "stdout",
          "output_type": "stream",
          "text": [
            "            Date  Temp_max(c)  Temp_avg(c)  Temp_min(c)  Dew_max(c)  \\\n",
            "0      1/01/2001         32.8         28.7         25.0        23.9   \n",
            "1      2/01/2001         31.1         24.8        -17.8        25.0   \n",
            "2      3/01/2001         30.0         26.8         25.0        25.0   \n",
            "3      4/01/2001         28.9         26.0         22.8        23.9   \n",
            "4      5/01/2001         32.2         27.3         23.9        23.9   \n",
            "...          ...          ...          ...          ...         ...   \n",
            "8242  26/05/2024         35.0         28.7         26.1        26.1   \n",
            "8243  27/05/2024         33.9         28.5         26.1        27.2   \n",
            "8244  28/05/2024         33.9         29.7         26.1        27.2   \n",
            "8245  29/05/2024         36.1         30.0         27.2        26.1   \n",
            "8246  30/05/2024         33.9         28.5         26.1        27.2   \n",
            "\n",
            "      Dew_avg(c)  Dew_min(c)  Hum_max(%)  Hum_avg(%)  Hum_min(%)  \\\n",
            "0           23.4        22.8          94        74.5          55   \n",
            "1           21.4       -17.8          94        78.4           0   \n",
            "2           23.9        22.8         100        85.1          66   \n",
            "3           23.2        22.2         100        85.9          66   \n",
            "4           21.8        20.0          89        72.3          55   \n",
            "...          ...         ...         ...         ...         ...   \n",
            "8242        25.3        23.9          94        83.6          53   \n",
            "8243        25.7        25.0          94        84.8          59   \n",
            "8244        26.0        25.0          94        80.9          59   \n",
            "8245        25.5        23.9          94        77.9          53   \n",
            "8246        25.9        25.0          94        86.3          59   \n",
            "\n",
            "      Wind_max(mph)  Wind_avg(mph)  Wind_min(mph)  Pres_max(in)  Pres_avg(in)  \\\n",
            "0                 8            2.5              1          29.7          29.7   \n",
            "1                 8            2.7              0          29.8          29.7   \n",
            "2                 9            3.2              0          29.8          29.7   \n",
            "3                10            3.9              1          29.8          29.7   \n",
            "4                 8            2.0              0          29.8          29.7   \n",
            "...             ...            ...            ...           ...           ...   \n",
            "8242             12            2.3              0          29.7          29.6   \n",
            "8243              7            2.1              0          29.7          29.6   \n",
            "8244              9            2.8              0          29.7          29.7   \n",
            "8245              9            2.9              0          29.7          29.7   \n",
            "8246             14            3.4              0          29.7          29.6   \n",
            "\n",
            "      Pres_min(in)  Precipitation  \n",
            "0             29.6              0  \n",
            "1             29.5              0  \n",
            "2             29.7              0  \n",
            "3             29.7              0  \n",
            "4             29.6              0  \n",
            "...            ...            ...  \n",
            "8242          29.6              0  \n",
            "8243          29.6              0  \n",
            "8244          29.6              0  \n",
            "8245          29.6              0  \n",
            "8246          29.6              0  \n",
            "\n",
            "[8247 rows x 17 columns]\n"
          ]
        }
      ],
      "source": [
        "print(weather)"
      ]
    },
    {
      "cell_type": "code",
      "execution_count": null,
      "metadata": {
        "colab": {
          "base_uri": "https://localhost:8080/"
        },
        "id": "SH0y6YcFO7fI",
        "outputId": "8d1fb390-d995-4e22-da82-62ce26cd686f"
      },
      "outputs": [
        {
          "name": "stdout",
          "output_type": "stream",
          "text": [
            "Date             0\n",
            "Temp_max(c)      0\n",
            "Temp_avg(c)      0\n",
            "Temp_min(c)      0\n",
            "Dew_max(c)       0\n",
            "Dew_avg(c)       0\n",
            "Dew_min(c)       0\n",
            "Hum_max(%)       0\n",
            "Hum_avg(%)       0\n",
            "Hum_min(%)       0\n",
            "Wind_max(mph)    0\n",
            "Wind_avg(mph)    0\n",
            "Wind_min(mph)    0\n",
            "Pres_max(in)     0\n",
            "Pres_avg(in)     0\n",
            "Pres_min(in)     0\n",
            "Precipitation    0\n",
            "dtype: int64\n"
          ]
        }
      ],
      "source": [
        "\n",
        "print(weather.isna().sum())\n"
      ]
    },
    {
      "cell_type": "code",
      "execution_count": null,
      "metadata": {
        "colab": {
          "base_uri": "https://localhost:8080/"
        },
        "id": "9jz94AwbO95E",
        "outputId": "45e8659f-63a2-4eb6-f321-fe25c99514b9"
      },
      "outputs": [
        {
          "name": "stdout",
          "output_type": "stream",
          "text": [
            "(8247, 17)\n"
          ]
        }
      ],
      "source": [
        "\n",
        "print(weather.shape)"
      ]
    },
    {
      "cell_type": "code",
      "execution_count": null,
      "metadata": {
        "id": "i_aQXW4nPF6j"
      },
      "outputs": [],
      "source": [
        "weather_df = weather.drop('Date', axis=1)"
      ]
    },
    {
      "cell_type": "code",
      "execution_count": null,
      "metadata": {
        "colab": {
          "base_uri": "https://localhost:8080/"
        },
        "id": "yHbQXBWtPH-l",
        "outputId": "8cf93867-18c0-459a-a4f9-7c0791ba85fb"
      },
      "outputs": [
        {
          "name": "stdout",
          "output_type": "stream",
          "text": [
            "Temp_max(c)      0\n",
            "Temp_avg(c)      0\n",
            "Temp_min(c)      0\n",
            "Dew_max(c)       0\n",
            "Dew_avg(c)       0\n",
            "Dew_min(c)       0\n",
            "Hum_max(%)       0\n",
            "Hum_avg(%)       0\n",
            "Hum_min(%)       0\n",
            "Wind_max(mph)    0\n",
            "Wind_avg(mph)    0\n",
            "Wind_min(mph)    0\n",
            "Pres_max(in)     0\n",
            "Pres_avg(in)     0\n",
            "Pres_min(in)     0\n",
            "Precipitation    0\n",
            "dtype: int64\n"
          ]
        }
      ],
      "source": [
        "print(weather_df.isna().sum())"
      ]
    },
    {
      "cell_type": "code",
      "execution_count": null,
      "metadata": {
        "colab": {
          "base_uri": "https://localhost:8080/",
          "height": 429
        },
        "id": "5eriGH98PJ12",
        "outputId": "fba71dfd-4542-47c1-d120-f16ffbafa770"
      },
      "outputs": [
        {
          "data": {
            "text/plain": [
              "<Axes: ylabel='Temp_avg(c)'>"
            ]
          },
          "execution_count": 11,
          "metadata": {},
          "output_type": "execute_result"
        },
        {
          "data": {
            "image/png": "[encoded data removed]",
            "text/plain": [
              "<Figure size 640x480 with 1 Axes>"
            ]
          },
          "metadata": {},
          "output_type": "display_data"
        }
      ],
      "source": [
        "sns.boxplot(weather_df['Temp_avg(c)'])"
      ]
    },
    {
      "cell_type": "code",
      "execution_count": null,
      "metadata": {
        "id": "wOj4pphTPfvL"
      },
      "outputs": [],
      "source": [
        "plt.show()"
      ]
    },
    {
      "cell_type": "code",
      "execution_count": null,
      "metadata": {
        "colab": {
          "base_uri": "https://localhost:8080/"
        },
        "id": "IllkSxeBPhfp",
        "outputId": "8153d0e7-4813-40ed-c79f-539e165730b7"
      },
      "outputs": [
        {
          "name": "stdout",
          "output_type": "stream",
          "text": [
            "IQR: 1.60\n",
            "Lower_Fence: 24.80\n",
            "Upper_Fence: 31.20\n",
            "\n",
            "Display Outliers\n",
            "      Temp_max(c)  Temp_avg(c)  Temp_min(c)  Dew_max(c)  Dew_avg(c)  \\\n",
            "10           31.1         24.2        -17.8        22.8        20.5   \n",
            "13           32.2         21.2        -17.8        23.9        17.4   \n",
            "36           32.2         22.6        -17.8        23.9        19.4   \n",
            "62           35.0         23.3        -17.8        25.0        18.9   \n",
            "600          32.8         23.9        -17.8        25.0        21.6   \n",
            "...           ...          ...          ...         ...         ...   \n",
            "7003         25.0         23.7         22.8        23.9        22.6   \n",
            "7352         25.0         24.4         23.9        23.9        23.6   \n",
            "7495         36.1         31.3         27.2        26.1        24.2   \n",
            "7754         26.1         24.3         22.2        23.9        22.9   \n",
            "7790         26.1         24.6         23.9        23.9        23.4   \n",
            "\n",
            "      Dew_min(c)  Hum_max(%)  Hum_avg(%)  Hum_min(%)  Wind_max(mph)  \\\n",
            "10         -17.8         100        76.2           0             15   \n",
            "13         -17.8         100        68.2           0             10   \n",
            "36         -17.8         100        75.1           0              9   \n",
            "62         -17.8          94        69.0           0             20   \n",
            "600        -17.8         100        83.8           0             13   \n",
            "...          ...         ...         ...         ...            ...   \n",
            "7003        22.2         100        93.0          89              8   \n",
            "7352        22.8         100        95.8          94             26   \n",
            "7495        22.2          84        67.2          49             12   \n",
            "7754        21.1         100        92.5          88              7   \n",
            "7790        22.8         100        93.8          89              5   \n",
            "\n",
            "      Wind_avg(mph)  Wind_min(mph)  Pres_max(in)  Pres_avg(in)  Pres_min(in)  \\\n",
            "10              6.0              0          29.8          29.7          29.6   \n",
            "13              5.6              1          29.8          29.7          29.6   \n",
            "36              2.7              0          29.7          26.8           0.0   \n",
            "62              4.6              0          29.8          28.3           0.0   \n",
            "600             3.6              0          29.8          28.3           0.0   \n",
            "...             ...            ...           ...           ...           ...   \n",
            "7003            3.7              0          29.8          29.7          29.7   \n",
            "7352            5.4              0          29.7          29.7          29.6   \n",
            "7495            5.6              0          29.7          29.6          29.6   \n",
            "7754            3.4              0          29.8          29.7          29.7   \n",
            "7790            1.9              0          29.9          29.9          29.8   \n",
            "\n",
            "      Precipitation  \n",
            "10                0  \n",
            "13                0  \n",
            "36                0  \n",
            "62                0  \n",
            "600               0  \n",
            "...             ...  \n",
            "7003              0  \n",
            "7352              0  \n",
            "7495              0  \n",
            "7754              0  \n",
            "7790              0  \n",
            "\n",
            "[78 rows x 16 columns]\n",
            "\n",
            "Display data without outliers\n",
            "      Temp_max(c)  Temp_avg(c)  Temp_min(c)  Dew_max(c)  Dew_avg(c)  \\\n",
            "0            32.8         28.7         25.0        23.9        23.4   \n",
            "1            31.1         24.8        -17.8        25.0        21.4   \n",
            "2            30.0         26.8         25.0        25.0        23.9   \n",
            "3            28.9         26.0         22.8        23.9        23.2   \n",
            "4            32.2         27.3         23.9        23.9        21.8   \n",
            "...           ...          ...          ...         ...         ...   \n",
            "8242         35.0         28.7         26.1        26.1        25.3   \n",
            "8243         33.9         28.5         26.1        27.2        25.7   \n",
            "8244         33.9         29.7         26.1        27.2        26.0   \n",
            "8245         36.1         30.0         27.2        26.1        25.5   \n",
            "8246         33.9         28.5         26.1        27.2        25.9   \n",
            "\n",
            "      Dew_min(c)  Hum_max(%)  Hum_avg(%)  Hum_min(%)  Wind_max(mph)  \\\n",
            "0           22.8          94        74.5          55              8   \n",
            "1          -17.8          94        78.4           0              8   \n",
            "2           22.8         100        85.1          66              9   \n",
            "3           22.2         100        85.9          66             10   \n",
            "4           20.0          89        72.3          55              8   \n",
            "...          ...         ...         ...         ...            ...   \n",
            "8242        23.9          94        83.6          53             12   \n",
            "8243        25.0          94        84.8          59              7   \n",
            "8244        25.0          94        80.9          59              9   \n",
            "8245        23.9          94        77.9          53              9   \n",
            "8246        25.0          94        86.3          59             14   \n",
            "\n",
            "      Wind_avg(mph)  Wind_min(mph)  Pres_max(in)  Pres_avg(in)  Pres_min(in)  \\\n",
            "0               2.5              1          29.7          29.7          29.6   \n",
            "1               2.7              0          29.8          29.7          29.5   \n",
            "2               3.2              0          29.8          29.7          29.7   \n",
            "3               3.9              1          29.8          29.7          29.7   \n",
            "4               2.0              0          29.8          29.7          29.6   \n",
            "...             ...            ...           ...           ...           ...   \n",
            "8242            2.3              0          29.7          29.6          29.6   \n",
            "8243            2.1              0          29.7          29.6          29.6   \n",
            "8244            2.8              0          29.7          29.7          29.6   \n",
            "8245            2.9              0          29.7          29.7          29.6   \n",
            "8246            3.4              0          29.7          29.6          29.6   \n",
            "\n",
            "      Precipitation  \n",
            "0                 0  \n",
            "1                 0  \n",
            "2                 0  \n",
            "3                 0  \n",
            "4                 0  \n",
            "...             ...  \n",
            "8242              0  \n",
            "8243              0  \n",
            "8244              0  \n",
            "8245              0  \n",
            "8246              0  \n",
            "\n",
            "[8169 rows x 16 columns]\n"
          ]
        }
      ],
      "source": [
        "Q1 = weather_df['Temp_avg(c)'].quantile(0.25)\n",
        "Q3 = weather_df['Temp_avg(c)'].quantile(0.75)\n",
        "IQR = Q3 - Q1\n",
        "print (\"IQR: %.2f\" %IQR)\n",
        "\n",
        "# Calculate the Lower and Upper Fence\n",
        "Lower_Fence = Q1 - (1.5 * IQR)\n",
        "Upper_Fence = Q3 + (1.5 * IQR)\n",
        "print (\"Lower_Fence: %.2f\" %Lower_Fence)\n",
        "print (\"Upper_Fence: %.2f\" %Upper_Fence)\n",
        "\n",
        "# Display Outliers and filter out the outliers\n",
        "print(\"\\nDisplay Outliers\")\n",
        "print (weather_df[((weather_df['Temp_avg(c)'] < Lower_Fence) | (weather_df['Temp_avg(c)'] > Upper_Fence))])\n",
        "\n",
        "# Display data without outliers\n",
        "weatherRemOut_df = weather_df[~((weather_df['Temp_avg(c)'] < Lower_Fence) | (weather_df['Temp_avg(c)'] > Upper_Fence))]\n",
        "print(\"\\nDisplay data without outliers\")\n",
        "print(weatherRemOut_df)"
      ]
    },
    {
      "cell_type": "code",
      "execution_count": null,
      "metadata": {
        "id": "SpaPyfeiP3QR"
      },
      "outputs": [],
      "source": [
        "# Shuffle the data to avoid bias\n",
        "df_shuffled = shuffle(weatherRemOut_df, random_state=42)"
      ]
    },
    {
      "cell_type": "code",
      "execution_count": null,
      "metadata": {
        "id": "7Fn1ClkQP5G5"
      },
      "outputs": [],
      "source": [
        "# Initialize RobustScaler\n",
        "scaler = RobustScaler()"
      ]
    },
    {
      "cell_type": "code",
      "execution_count": null,
      "metadata": {
        "id": "doGfyliTP66T"
      },
      "outputs": [],
      "source": [
        "# Fit the scaler to data and transform\n",
        "scaled_data = scaler.fit_transform(df_shuffled)\n"
      ]
    },
    {
      "cell_type": "code",
      "execution_count": null,
      "metadata": {
        "colab": {
          "base_uri": "https://localhost:8080/"
        },
        "id": "luzmwlmfP8sR",
        "outputId": "e06fb5f9-722a-413c-c3bc-2594dcfe17fe"
      },
      "outputs": [
        {
          "name": "stdout",
          "output_type": "stream",
          "text": [
            "\n",
            "Scaled Data: \n",
            "       Temp_max(c)  Temp_avg(c)  Temp_min(c)  Dew_max(c)  Dew_avg(c)  \\\n",
            "0        0.000000      -0.3125          0.0         0.0    0.307692   \n",
            "1       -0.352941      -0.7500         -1.0         0.0   -0.230769   \n",
            "2        0.647059       0.3125          0.0         0.5    0.769231   \n",
            "3       -0.352941      -0.4375          0.0        -0.5   -0.538462   \n",
            "4       -1.000000      -0.3750          0.0         0.5    0.461538   \n",
            "...           ...          ...          ...         ...         ...   \n",
            "8164     0.647059       0.3125          1.0         0.5    0.153846   \n",
            "8165     0.647059       0.6250          0.0        -0.5   -0.538462   \n",
            "8166     1.294118       0.4375          0.0         0.0    0.000000   \n",
            "8167    -1.000000      -1.3750         -1.0         0.5    0.230769   \n",
            "8168    -1.000000      -0.8750         -1.0         0.0   -0.461538   \n",
            "\n",
            "      Dew_min(c)  Hum_max(%)  Hum_avg(%)  Hum_min(%)  Wind_max(mph)  \\\n",
            "0      -1.000000         0.0    0.402439         0.7       2.000000   \n",
            "1      -1.000000         0.0    0.414634         0.3       1.000000   \n",
            "2       1.833333         0.0    0.231707         0.3       0.000000   \n",
            "3      -1.000000        -5.0   -0.134146         0.6      -1.000000   \n",
            "4       1.833333         0.0    0.585366         1.0       0.666667   \n",
            "...          ...         ...         ...         ...            ...   \n",
            "8164   -2.833333        -5.0   -0.256098        -1.0      -0.666667   \n",
            "8165   -2.833333        -5.0   -0.975610        -1.0       1.666667   \n",
            "8166    0.000000         0.0   -0.378049        -0.7      -0.333333   \n",
            "8167    0.000000         6.0    1.329268         0.6      -0.333333   \n",
            "8168   -1.000000         0.0    0.402439         0.2       0.666667   \n",
            "\n",
            "      Wind_avg(mph)  Wind_min(mph)  Pres_max(in)  Pres_avg(in)  Pres_min(in)  \\\n",
            "0         -0.076923            0.0           0.0           0.0           0.0   \n",
            "1          1.230769            0.0           0.0           0.0           0.0   \n",
            "2          0.153846            1.0          -0.1          -0.1           0.0   \n",
            "3          0.000000            0.0           0.0           0.0           1.0   \n",
            "4          0.000000            0.0          -0.1          -0.1           0.0   \n",
            "...             ...            ...           ...           ...           ...   \n",
            "8164      -0.769231            0.0           0.1           0.1           1.0   \n",
            "8165       1.615385            0.0           0.0           0.0           0.0   \n",
            "8166      -0.153846            0.0           0.0           0.0           0.0   \n",
            "8167      -0.615385            0.0           0.0           0.0           1.0   \n",
            "8168      -0.384615            0.0           0.0           0.1           1.0   \n",
            "\n",
            "      Precipitation  \n",
            "0               0.0  \n",
            "1               0.0  \n",
            "2               0.0  \n",
            "3               0.0  \n",
            "4               0.0  \n",
            "...             ...  \n",
            "8164            0.0  \n",
            "8165            0.0  \n",
            "8166            0.0  \n",
            "8167            0.0  \n",
            "8168            0.0  \n",
            "\n",
            "[8169 rows x 16 columns]\n"
          ]
        }
      ],
      "source": [
        "# Convert back to DataFrame\n",
        "scaled_df = pd.DataFrame(scaled_data, columns=df_shuffled.columns)\n",
        "print(\"\\nScaled Data: \\n\", scaled_df)"
      ]
    },
    {
      "cell_type": "code",
      "execution_count": null,
      "metadata": {
        "id": "XUHb5pNAP_Xw"
      },
      "outputs": [],
      "source": [
        "# Define the dependent variable\n",
        "DV = 'Temp_avg(c)'\n",
        "x = scaled_df.drop(DV, axis=1)\n",
        "y = scaled_df[DV]\n",
        "\n",
        "# Split the data into training and test sets\n",
        "x_train, x_test, y_train, y_test = train_test_split(x, y, test_size=0.20, random_state=42)"
      ]
    },
    {
      "cell_type": "code",
      "execution_count": null,
      "metadata": {
        "colab": {
          "base_uri": "https://localhost:8080/"
        },
        "id": "n0rpdiQkQCT_",
        "outputId": "5bdd8b2b-4df4-4f70-86cf-08e321985f07"
      },
      "outputs": [
        {
          "name": "stdout",
          "output_type": "stream",
          "text": [
            "Epoch 1/100\n",
            "164/164 [==============================] - 1s 4ms/step - loss: 4.4260 - val_loss: 0.1477\n",
            "Epoch 2/100\n",
            "164/164 [==============================] - 0s 2ms/step - loss: 0.1161 - val_loss: 0.0868\n",
            "Epoch 3/100\n",
            "164/164 [==============================] - 0s 3ms/step - loss: 0.0684 - val_loss: 0.0581\n",
            "Epoch 4/100\n",
            "164/164 [==============================] - 0s 2ms/step - loss: 0.0673 - val_loss: 0.1173\n",
            "Epoch 5/100\n",
            "164/164 [==============================] - 0s 2ms/step - loss: 0.0530 - val_loss: 0.0331\n",
            "Epoch 6/100\n",
            "164/164 [==============================] - 0s 2ms/step - loss: 0.0410 - val_loss: 0.2770\n",
            "Epoch 7/100\n",
            "164/164 [==============================] - 0s 3ms/step - loss: 0.0647 - val_loss: 0.0759\n",
            "Epoch 8/100\n",
            "164/164 [==============================] - 0s 2ms/step - loss: 0.0537 - val_loss: 0.0761\n",
            "Epoch 9/100\n",
            "164/164 [==============================] - 0s 2ms/step - loss: 0.1870 - val_loss: 0.9302\n",
            "Epoch 10/100\n",
            "164/164 [==============================] - 0s 3ms/step - loss: 0.0498 - val_loss: 0.0217\n",
            "Epoch 11/100\n",
            "164/164 [==============================] - 0s 2ms/step - loss: 0.0819 - val_loss: 0.1289\n",
            "Epoch 12/100\n",
            "164/164 [==============================] - 0s 2ms/step - loss: 0.0439 - val_loss: 0.0108\n",
            "Epoch 13/100\n",
            "164/164 [==============================] - 0s 2ms/step - loss: 0.1307 - val_loss: 0.7949\n",
            "Epoch 14/100\n",
            "164/164 [==============================] - 0s 2ms/step - loss: 1.0826 - val_loss: 0.0133\n",
            "Epoch 15/100\n",
            "164/164 [==============================] - 0s 2ms/step - loss: 0.0173 - val_loss: 0.0365\n",
            "Epoch 16/100\n",
            "164/164 [==============================] - 0s 2ms/step - loss: 0.0211 - val_loss: 0.0235\n",
            "Epoch 17/100\n",
            "164/164 [==============================] - 0s 3ms/step - loss: 0.0200 - val_loss: 0.0251\n",
            "Epoch 18/100\n",
            "164/164 [==============================] - 0s 2ms/step - loss: 0.0338 - val_loss: 0.0099\n",
            "Epoch 19/100\n",
            "164/164 [==============================] - 1s 3ms/step - loss: 0.0270 - val_loss: 0.0124\n",
            "Epoch 20/100\n",
            "164/164 [==============================] - 1s 4ms/step - loss: 0.0218 - val_loss: 0.0416\n",
            "Epoch 21/100\n",
            "164/164 [==============================] - 1s 4ms/step - loss: 0.0235 - val_loss: 0.0271\n",
            "Epoch 22/100\n",
            "164/164 [==============================] - 1s 4ms/step - loss: 0.0571 - val_loss: 0.0396\n",
            "Epoch 23/100\n",
            "164/164 [==============================] - 1s 6ms/step - loss: 0.0136 - val_loss: 0.0078\n",
            "Epoch 24/100\n",
            "164/164 [==============================] - 1s 8ms/step - loss: 0.5004 - val_loss: 0.9752\n",
            "Epoch 25/100\n",
            "164/164 [==============================] - 1s 4ms/step - loss: 0.0707 - val_loss: 0.0088\n",
            "Epoch 26/100\n",
            "164/164 [==============================] - 1s 4ms/step - loss: 0.0109 - val_loss: 0.0102\n",
            "Epoch 27/100\n",
            "164/164 [==============================] - 1s 4ms/step - loss: 0.0143 - val_loss: 0.0071\n",
            "Epoch 28/100\n",
            "164/164 [==============================] - 1s 4ms/step - loss: 0.0104 - val_loss: 0.0121\n",
            "Epoch 29/100\n",
            "164/164 [==============================] - 1s 4ms/step - loss: 0.0157 - val_loss: 0.1234\n",
            "Epoch 30/100\n",
            "164/164 [==============================] - 1s 4ms/step - loss: 0.0492 - val_loss: 0.0159\n",
            "Epoch 31/100\n",
            "164/164 [==============================] - 1s 3ms/step - loss: 0.0162 - val_loss: 0.0144\n",
            "Epoch 32/100\n",
            "164/164 [==============================] - 0s 3ms/step - loss: 0.0133 - val_loss: 0.0406\n",
            "Epoch 33/100\n",
            "164/164 [==============================] - 0s 3ms/step - loss: 0.0596 - val_loss: 0.0057\n",
            "Epoch 34/100\n",
            "164/164 [==============================] - 0s 3ms/step - loss: 0.0351 - val_loss: 0.0116\n",
            "Epoch 35/100\n",
            "164/164 [==============================] - 0s 3ms/step - loss: 0.0112 - val_loss: 0.0133\n",
            "Epoch 36/100\n",
            "164/164 [==============================] - 0s 2ms/step - loss: 0.1952 - val_loss: 0.0206\n",
            "Epoch 37/100\n",
            "164/164 [==============================] - 0s 3ms/step - loss: 0.0273 - val_loss: 0.0097\n",
            "Epoch 38/100\n",
            "164/164 [==============================] - 0s 3ms/step - loss: 0.0114 - val_loss: 0.0124\n",
            "Epoch 39/100\n",
            "164/164 [==============================] - 0s 3ms/step - loss: 0.0136 - val_loss: 0.0075\n",
            "Epoch 40/100\n",
            "164/164 [==============================] - 0s 3ms/step - loss: 0.0124 - val_loss: 0.0345\n",
            "Epoch 41/100\n",
            "164/164 [==============================] - 0s 3ms/step - loss: 0.6654 - val_loss: 0.0656\n",
            "Epoch 42/100\n",
            "164/164 [==============================] - 0s 3ms/step - loss: 0.0187 - val_loss: 0.0113\n",
            "Epoch 43/100\n",
            "164/164 [==============================] - 1s 3ms/step - loss: 0.0087 - val_loss: 0.0086\n",
            "Epoch 44/100\n",
            "164/164 [==============================] - 1s 4ms/step - loss: 0.0077 - val_loss: 0.0097\n",
            "Epoch 45/100\n",
            "164/164 [==============================] - 1s 4ms/step - loss: 0.0082 - val_loss: 0.0235\n",
            "Epoch 46/100\n",
            "164/164 [==============================] - 1s 4ms/step - loss: 0.0234 - val_loss: 0.0082\n",
            "Epoch 47/100\n",
            "164/164 [==============================] - 1s 4ms/step - loss: 0.0147 - val_loss: 0.0057\n",
            "Epoch 48/100\n",
            "164/164 [==============================] - 1s 4ms/step - loss: 0.0082 - val_loss: 0.0066\n",
            "Epoch 49/100\n",
            "164/164 [==============================] - 1s 4ms/step - loss: 0.0083 - val_loss: 0.0049\n",
            "Epoch 50/100\n",
            "164/164 [==============================] - 0s 3ms/step - loss: 0.0090 - val_loss: 0.0085\n",
            "Epoch 51/100\n",
            "164/164 [==============================] - 1s 3ms/step - loss: 0.0132 - val_loss: 0.0094\n",
            "Epoch 52/100\n",
            "164/164 [==============================] - 0s 3ms/step - loss: 0.0226 - val_loss: 0.0072\n",
            "Epoch 53/100\n",
            "164/164 [==============================] - 0s 3ms/step - loss: 0.0115 - val_loss: 0.0110\n",
            "Epoch 54/100\n",
            "164/164 [==============================] - 0s 3ms/step - loss: 0.0109 - val_loss: 0.0051\n",
            "Epoch 55/100\n",
            "164/164 [==============================] - 0s 3ms/step - loss: 0.0150 - val_loss: 0.0145\n",
            "Epoch 56/100\n",
            "164/164 [==============================] - 0s 3ms/step - loss: 0.1722 - val_loss: 0.0076\n",
            "Epoch 57/100\n",
            "164/164 [==============================] - 0s 3ms/step - loss: 0.0128 - val_loss: 0.0060\n",
            "Epoch 58/100\n",
            "164/164 [==============================] - 0s 3ms/step - loss: 0.0059 - val_loss: 0.0124\n",
            "Epoch 59/100\n",
            "164/164 [==============================] - 0s 3ms/step - loss: 0.0067 - val_loss: 0.0060\n",
            "Epoch 60/100\n",
            "164/164 [==============================] - 0s 3ms/step - loss: 0.0103 - val_loss: 0.0052\n",
            "Epoch 61/100\n",
            "164/164 [==============================] - 0s 2ms/step - loss: 0.0079 - val_loss: 0.0062\n",
            "Epoch 62/100\n",
            "164/164 [==============================] - 0s 3ms/step - loss: 0.0080 - val_loss: 0.0047\n",
            "Epoch 63/100\n",
            "164/164 [==============================] - 0s 3ms/step - loss: 0.0140 - val_loss: 0.2536\n",
            "Epoch 64/100\n",
            "164/164 [==============================] - 1s 3ms/step - loss: 0.1480 - val_loss: 0.0089\n",
            "Epoch 65/100\n",
            "164/164 [==============================] - 0s 3ms/step - loss: 0.0119 - val_loss: 0.0083\n",
            "Epoch 66/100\n",
            "164/164 [==============================] - 0s 3ms/step - loss: 0.0092 - val_loss: 0.0143\n",
            "Epoch 67/100\n",
            "164/164 [==============================] - 0s 3ms/step - loss: 0.0074 - val_loss: 0.0432\n",
            "Epoch 68/100\n",
            "164/164 [==============================] - 0s 3ms/step - loss: 0.0222 - val_loss: 0.0185\n",
            "Epoch 69/100\n",
            "164/164 [==============================] - 0s 3ms/step - loss: 0.0098 - val_loss: 0.0062\n",
            "Epoch 70/100\n",
            "164/164 [==============================] - 0s 3ms/step - loss: 0.0085 - val_loss: 0.0107\n",
            "Epoch 71/100\n",
            "164/164 [==============================] - 1s 4ms/step - loss: 0.0083 - val_loss: 0.0045\n",
            "Epoch 72/100\n",
            "164/164 [==============================] - 1s 4ms/step - loss: 0.0075 - val_loss: 0.0219\n",
            "Epoch 73/100\n",
            "164/164 [==============================] - 1s 4ms/step - loss: 0.0153 - val_loss: 0.0105\n",
            "Epoch 74/100\n",
            "164/164 [==============================] - 1s 5ms/step - loss: 0.0076 - val_loss: 0.0129\n",
            "Epoch 75/100\n",
            "164/164 [==============================] - 1s 5ms/step - loss: 0.0111 - val_loss: 0.0200\n",
            "Epoch 76/100\n",
            "164/164 [==============================] - 1s 4ms/step - loss: 0.0136 - val_loss: 0.0046\n",
            "Epoch 77/100\n",
            "164/164 [==============================] - 0s 3ms/step - loss: 0.0082 - val_loss: 0.0064\n",
            "Epoch 78/100\n",
            "164/164 [==============================] - 0s 3ms/step - loss: 0.0056 - val_loss: 0.0049\n",
            "Epoch 79/100\n",
            "164/164 [==============================] - 1s 3ms/step - loss: 0.0210 - val_loss: 0.0232\n",
            "Epoch 80/100\n",
            "164/164 [==============================] - 0s 3ms/step - loss: 0.0286 - val_loss: 0.0110\n",
            "Epoch 81/100\n",
            "164/164 [==============================] - 0s 3ms/step - loss: 0.0136 - val_loss: 0.0065\n",
            "Epoch 82/100\n",
            "164/164 [==============================] - 0s 3ms/step - loss: 0.0097 - val_loss: 0.0196\n",
            "Epoch 83/100\n",
            "164/164 [==============================] - 0s 3ms/step - loss: 0.0213 - val_loss: 0.0248\n",
            "Epoch 84/100\n",
            "164/164 [==============================] - 0s 3ms/step - loss: 0.0299 - val_loss: 0.0053\n",
            "Epoch 85/100\n",
            "164/164 [==============================] - 0s 3ms/step - loss: 0.0150 - val_loss: 0.0076\n",
            "Epoch 86/100\n",
            "164/164 [==============================] - 0s 3ms/step - loss: 0.0110 - val_loss: 0.0046\n",
            "Epoch 87/100\n",
            "164/164 [==============================] - 0s 2ms/step - loss: 0.0087 - val_loss: 0.0114\n",
            "Epoch 88/100\n",
            "164/164 [==============================] - 0s 3ms/step - loss: 0.0104 - val_loss: 0.0048\n",
            "Epoch 89/100\n",
            "164/164 [==============================] - 0s 3ms/step - loss: 0.0064 - val_loss: 0.0050\n",
            "Epoch 90/100\n",
            "164/164 [==============================] - 1s 3ms/step - loss: 0.0102 - val_loss: 0.0095\n",
            "Epoch 91/100\n",
            "164/164 [==============================] - 0s 3ms/step - loss: 0.0080 - val_loss: 0.0063\n",
            "Epoch 92/100\n",
            "164/164 [==============================] - 0s 3ms/step - loss: 0.0059 - val_loss: 0.0072\n",
            "Epoch 93/100\n",
            "164/164 [==============================] - 1s 3ms/step - loss: 0.0070 - val_loss: 0.0064\n",
            "Epoch 94/100\n",
            "164/164 [==============================] - 0s 3ms/step - loss: 0.0208 - val_loss: 0.0061\n",
            "Epoch 95/100\n",
            "164/164 [==============================] - 0s 3ms/step - loss: 0.0103 - val_loss: 0.0083\n",
            "Epoch 96/100\n",
            "164/164 [==============================] - 0s 3ms/step - loss: 0.0071 - val_loss: 0.0041\n",
            "Epoch 97/100\n",
            "164/164 [==============================] - 1s 7ms/step - loss: 0.0072 - val_loss: 0.0042\n",
            "Epoch 98/100\n",
            "164/164 [==============================] - 1s 8ms/step - loss: 0.0226 - val_loss: 0.0145\n",
            "Epoch 99/100\n",
            "164/164 [==============================] - 1s 4ms/step - loss: 0.0066 - val_loss: 0.0049\n",
            "Epoch 100/100\n",
            "164/164 [==============================] - 1s 6ms/step - loss: 0.0061 - val_loss: 0.0051\n"
          ]
        }
      ],
      "source": [
        "# Define the neural network model\n",
        "model = Sequential()\n",
        "model.add(Dense(64, input_dim=x_train.shape[1], activation='relu'))\n",
        "model.add(Dense(32, activation='relu'))\n",
        "model.add(Dense(1))\n",
        "\n",
        "# Compile the model\n",
        "model.compile(optimizer='adam', loss='mean_squared_error')\n",
        "\n",
        "# Train the model\n",
        "history = model.fit(x_train, y_train, epochs=100, batch_size=32, validation_split=0.2)"
      ]
    },
    {
      "cell_type": "code",
      "execution_count": null,
      "metadata": {
        "colab": {
          "base_uri": "https://localhost:8080/",
          "height": 489
        },
        "id": "LvUDJPy6SV1U",
        "outputId": "600f9c04-ba71-4615-9874-60b05662504f"
      },
      "outputs": [
        {
          "name": "stdout",
          "output_type": "stream",
          "text": [
            "52/52 [==============================] - 0s 2ms/step\n"
          ]
        },
        {
          "data": {
            "image/png": "[encoded data removed]",
            "text/plain": [
              "<Figure size 640x480 with 1 Axes>"
            ]
          },
          "metadata": {},
          "output_type": "display_data"
        }
      ],
      "source": [
        "# Make predictions on the test set\n",
        "predictions = model.predict(x_test)\n",
        "\n",
        "# Plot predicted vs actual values\n",
        "plt.scatter(y_test, predictions)\n",
        "plt.xlabel('Y Test (True Values)')\n",
        "plt.ylabel('Predicted Values')\n",
        "plt.title('Predicted vs. Actual Values (r = {0:0.2f})'.format(pearsonr(y_test, predictions.flatten())[0]))\n",
        "plt.show()\n",
        "\n"
      ]
    },
    {
      "cell_type": "code",
      "execution_count": null,
      "metadata": {
        "colab": {
          "base_uri": "https://localhost:8080/",
          "height": 472
        },
        "id": "H7oZFBTeScz-",
        "outputId": "53a0b770-3a9e-452d-e927-5c6abf9c0644"
      },
      "outputs": [
        {
          "data": {
            "image/png": "[encoded data removed]",
            "text/plain": [
              "<Figure size 640x480 with 1 Axes>"
            ]
          },
          "metadata": {},
          "output_type": "display_data"
        }
      ],
      "source": [
        "plt.plot(history.history['loss'], label='Training Loss')\n",
        "plt.plot(history.history['val_loss'], label='Validation Loss')\n",
        "plt.xlabel('Epochs')\n",
        "plt.ylabel('Loss')\n",
        "plt.title('Training and Validation Loss')\n",
        "plt.legend()\n",
        "plt.show()"
      ]
    },
    {
      "cell_type": "code",
      "execution_count": null,
      "metadata": {
        "colab": {
          "base_uri": "https://localhost:8080/",
          "height": 616
        },
        "id": "g0xKFtvTSy4J",
        "outputId": "557f8e1b-8830-4c69-b005-6b9760574e99"
      },
      "outputs": [
        {
          "data": {
            "image/png": "[encoded data removed]",
            "text/plain": [
              "<Figure size 500x500 with 1 Axes>"
            ]
          },
          "metadata": {},
          "output_type": "display_data"
        },
        {
          "name": "stdout",
          "output_type": "stream",
          "text": [
            "      Metric  Value\n",
            "0        MAE  0.050\n",
            "1        MSE  0.005\n",
            "2       RMSE  0.073\n",
            "3  R-Squared  0.989\n"
          ]
        }
      ],
      "source": [
        "# Plot the residuals\n",
        "sns.displot((y_test - predictions.flatten()), bins=50)\n",
        "plt.xlabel('Residuals')\n",
        "plt.ylabel('Density')\n",
        "plt.title('Histogram of Residuals (Shapiro W p-value = {0:0.3f})'.format(shapiro(y_test - predictions.flatten())[1]))\n",
        "plt.show()\n",
        "\n",
        "# Print evaluation metrics\n",
        "metrics_df = pd.DataFrame({\n",
        "    'Metric': ['MAE', 'MSE', 'RMSE', 'R-Squared'],\n",
        "    'Value': [\n",
        "        metrics.mean_absolute_error(y_test, predictions),\n",
        "        metrics.mean_squared_error(y_test, predictions),\n",
        "        np.sqrt(metrics.mean_squared_error(y_test, predictions)),\n",
        "        metrics.explained_variance_score(y_test, predictions)\n",
        "    ]\n",
        "}).round(3)\n",
        "print(metrics_df)\n"
      ]
    },
    {
      "cell_type": "code",
      "execution_count": null,
      "metadata": {
        "colab": {
          "base_uri": "https://localhost:8080/"
        },
        "id": "kAg0ckvJTLXO",
        "outputId": "0484c866-6fd5-4383-ec57-f627bcc7caaf"
      },
      "outputs": [
        {
          "name": "stdout",
          "output_type": "stream",
          "text": [
            "      Metric  Value\n",
            "0        MAE  0.050\n",
            "1        MSE  0.005\n",
            "2       RMSE  0.073\n",
            "3  R-Squared  0.989\n"
          ]
        }
      ],
      "source": [
        "# Flatten predictions for consistency in metrics calculations\n",
        "predictions_flat = predictions.flatten()\n",
        "\n",
        "# Compute the evaluation metrics\n",
        "metrics_df = pd.DataFrame({\n",
        "    'Metric': ['MAE', 'MSE', 'RMSE', 'R-Squared'],\n",
        "    'Value': [\n",
        "        metrics.mean_absolute_error(y_test, predictions_flat),\n",
        "        metrics.mean_squared_error(y_test, predictions_flat),\n",
        "        np.sqrt(metrics.mean_squared_error(y_test, predictions_flat)),\n",
        "        metrics.explained_variance_score(y_test, predictions_flat)\n",
        "    ]\n",
        "}).round(3)\n",
        "\n",
        "# Print the metrics DataFrame\n",
        "print(metrics_df)"
      ]
    }
  ],
  "metadata": {
    "colab": {
      "provenance": []
    },
    "kernelspec": {
      "display_name": "Python 3",
      "name": "python3"
    },
    "language_info": {
      "codemirror_mode": {
        "name": "ipython",
        "version": 3
      },
      "file_extension": ".py",
      "mimetype": "text/x-python",
      "name": "python",
      "nbconvert_exporter": "python",
      "pygments_lexer": "ipython3",
      "version": "3.11.9"
    }
  },
  "nbformat": 4,
  "nbformat_minor": 0
}
